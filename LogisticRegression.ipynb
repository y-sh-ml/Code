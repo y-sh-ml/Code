{
 "cells": [
  {
   "cell_type": "code",
   "execution_count": 96,
   "metadata": {},
   "outputs": [],
   "source": [
    "import numpy as np\n",
    "import pandas as pd\n",
    "import matplotlib.pyplot as plt\n",
    "import seaborn as sns\n",
    "\n",
    "# データセットを読み込むモジュール\n",
    "from sklearn.datasets import load_iris\n",
    "\n",
    "# 標準化（分散正規化）を行うモジュール\n",
    "from sklearn.preprocessing import StandardScaler\n",
    "\n",
    "# 訓練データとテストデータを分割するモジュール\n",
    "from sklearn.model_selection import train_test_split\n",
    "\n",
    "# ロジスティック回帰を実行するモジュール\n",
    "from sklearn.linear_model import LogisticRegression\n",
    "\n",
    "# ROC曲線をプロットするモジュール\n",
    "from sklearn.metrics import roc_curve\n",
    "\n",
    "# AUCを算出するモジュール\n",
    "from sklearn.metrics import roc_auc_score\n",
    "\n",
    "# 分類の評価を行うモジュール\n",
    "from sklearn.metrics import classification_report\n",
    "\n",
    "# 混同行列を扱うモジュール\n",
    "from sklearn.metrics import confusion_matrix"
   ]
  },
  {
   "cell_type": "code",
   "execution_count": 97,
   "metadata": {},
   "outputs": [],
   "source": [
    "# irisデータセットの読み込み\n",
    "iris = load_iris()\n",
    "\n",
    "# 目的変数と説明変数に分ける\n",
    "X, y = iris.data[:100, [0, 2]], iris.target[:100]\n",
    "\n",
    "# 標準化（分散正規化）\n",
    "std = StandardScaler()\n",
    "X = std.fit_transform(X)\n",
    "\n",
    "# 訓練データとテストデータに分割する\n",
    "X_train, X_test, y_train, y_test = train_test_split(X, y, test_size=0.2, random_state=123)"
   ]
  },
  {
   "cell_type": "code",
   "execution_count": 98,
   "metadata": {},
   "outputs": [
    {
     "data": {
      "image/png": "[encoded data removed]",
      "text/plain": [
       "<Figure size 432x288 with 1 Axes>"
      ]
     },
     "metadata": {
      "needs_background": "light"
     },
     "output_type": "display_data"
    }
   ],
   "source": [
    "# 描画オブジェクトとサブプロットの作成\n",
    "fig, ax = plt.subplots()\n",
    "\n",
    "# Setosa のプロット\n",
    "ax.scatter(X_train[y_train == 0, 0], X_train[y_train == 0, 1], \n",
    "           marker = 'o', label = 'Setosa')\n",
    "\n",
    "# Versicolor のプロット\n",
    "ax.scatter(X_train[y_train == 1, 0], X_train[y_train == 1, 1],\n",
    "           marker = 'x', label = 'Versicolor')\n",
    "\n",
    "# 軸ラベルの設定\n",
    "ax.set_xlabel('Sepal Length')\n",
    "ax.set_ylabel('Petal Length')\n",
    "\n",
    "# 凡例の設定 \n",
    "ax.legend(loc = 'best')\n",
    "\n",
    "plt.show()"
   ]
  },
  {
   "cell_type": "code",
   "execution_count": 99,
   "metadata": {},
   "outputs": [
    {
     "data": {
      "text/plain": [
       "LogisticRegression(C=1.0, class_weight=None, dual=False, fit_intercept=True,\n",
       "                   intercept_scaling=1, l1_ratio=None, max_iter=100,\n",
       "                   multi_class='auto', n_jobs=None, penalty='l2',\n",
       "                   random_state=None, solver='lbfgs', tol=0.0001, verbose=0,\n",
       "                   warm_start=False)"
      ]
     },
     "execution_count": 99,
     "metadata": {},
     "output_type": "execute_result"
    }
   ],
   "source": [
    "# インスタンスを作成\n",
    "logreg = LogisticRegression()\n",
    "\n",
    "# 訓練データからモデルを作成\n",
    "logreg.fit(X_train, y_train)"
   ]
  },
  {
   "cell_type": "markdown",
   "metadata": {},
   "source": [
    "<br>\n",
    "まず、$z=w_0 + w_1x_1 + w_2x_2 + \\cdots +w_nx_n$ の式に対して、 $ x_1 $ ～ $x_n$ に X_train を入れる<br>\n",
    "<br>\n",
    "次に $\\sigma(z)=\\frac{1}{1+\\exp(-z)}$ に代入して、出力値が 0.5 を中心に 0～1 の範囲となるようにする<br>\n",
    "<br>\n",
    "最後に、$J(w) = \\frac{1}{n}\\sum_{i=1}^{n}y\\log(p(x;w))+(1-y)\\log(1-p(x;w))$ を用いて<br>\n",
    "0に近い値なら0を、1に近い値なら1を出力する<br>\n",
    "<br>\n",
    "<br>\n",
    "このようにシグモイド関数とコスト関数をセットにして分類するのが、ロジスティック回帰である<br>\n",
    "<br>"
   ]
  },
  {
   "cell_type": "code",
   "execution_count": 100,
   "metadata": {},
   "outputs": [
    {
     "name": "stdout",
     "output_type": "stream",
     "text": [
      "[0 1 1 0 1 0 0 1 1 0 0 1 1 1 0 0 1 0 1 1]\n"
     ]
    }
   ],
   "source": [
    "y_pred = logreg.predict(X_test)\n",
    "print(y_pred)"
   ]
  },
  {
   "cell_type": "code",
   "execution_count": 101,
   "metadata": {},
   "outputs": [
    {
     "data": {
      "text/plain": [
       "array([0, 1, 1, 0, 1, 0, 0, 1, 1, 0, 0, 1, 1, 1, 0, 0, 1, 0, 1, 1])"
      ]
     },
     "execution_count": 101,
     "metadata": {},
     "output_type": "execute_result"
    }
   ],
   "source": [
    "y_test"
   ]
  },
  {
   "cell_type": "code",
   "execution_count": 102,
   "metadata": {
    "scrolled": true
   },
   "outputs": [
    {
     "name": "stdout",
     "output_type": "stream",
     "text": [
      "[0.02210131 0.99309888 0.95032727 0.04834431 0.99302674 0.04389388\n",
      " 0.10540851 0.99718459 0.90218405 0.03983599 0.08000775 0.99280579\n",
      " 0.99721384 0.78408501 0.08947531 0.01793823 0.99798469 0.01793823\n",
      " 0.99429762 0.9920454 ]\n"
     ]
    }
   ],
   "source": [
    "y_proba = logreg.predict_proba(X_test)[: , 1]\n",
    "print(y_proba)"
   ]
  },
  {
   "cell_type": "code",
   "execution_count": 89,
   "metadata": {},
   "outputs": [
    {
     "data": {
      "image/png": "[encoded data removed]",
      "text/plain": [
       "<Figure size 432x288 with 1 Axes>"
      ]
     },
     "metadata": {
      "needs_background": "light"
     },
     "output_type": "display_data"
    }
   ],
   "source": [
    "# ROC・AUCで予測値を評価する（正解データと予測値からfpr, tprを算出して評価する）\n",
    "\n",
    "# 予測値と正解値があれば、AUCまで求められる\n",
    "fpr, tpr, thresholds = roc_curve(y_test, y_pred)\n",
    "auc_score = roc_auc_score(y_test, y_pred)\n",
    "plt.plot(fpr, tpr, label='AUC = %.3f' % (auc_score))\n",
    "plt.legend()\n",
    "plt.title('ROC curve')\n",
    "plt.xlabel('False Positive Rate')\n",
    "plt.ylabel('True Positive Rate')\n",
    "plt.grid(True)"
   ]
  },
  {
   "cell_type": "code",
   "execution_count": 90,
   "metadata": {},
   "outputs": [
    {
     "data": {
      "text/plain": [
       "<matplotlib.axes._subplots.AxesSubplot at 0x1fcf0b22748>"
      ]
     },
     "execution_count": 90,
     "metadata": {},
     "output_type": "execute_result"
    },
    {
     "data": {
      "image/png": "[encoded data removed]",
      "text/plain": [
       "<Figure size 432x288 with 2 Axes>"
      ]
     },
     "metadata": {
      "needs_background": "light"
     },
     "output_type": "display_data"
    }
   ],
   "source": [
    "classes = [1, 0]\n",
    "cm = confusion_matrix(y_test, y_pred, labels=classes)\n",
    "\n",
    "cmdf = pd.DataFrame(cm, index=classes, columns=classes)\n",
    "\n",
    "sns.heatmap(cmdf, annot=True)"
   ]
  },
  {
   "cell_type": "code",
   "execution_count": 91,
   "metadata": {},
   "outputs": [
    {
     "name": "stdout",
     "output_type": "stream",
     "text": [
      "              precision    recall  f1-score   support\n",
      "\n",
      "           0       1.00      1.00      1.00         9\n",
      "           1       1.00      1.00      1.00        11\n",
      "\n",
      "    accuracy                           1.00        20\n",
      "   macro avg       1.00      1.00      1.00        20\n",
      "weighted avg       1.00      1.00      1.00        20\n",
      "\n"
     ]
    }
   ],
   "source": [
    "# 適合率、再現率、F値を出力\n",
    "print(classification_report(y_test, y_pred))"
   ]
  },
  {
   "cell_type": "code",
   "execution_count": 92,
   "metadata": {},
   "outputs": [
    {
     "name": "stdout",
     "output_type": "stream",
     "text": [
      "1.0\n"
     ]
    }
   ],
   "source": [
    "print(logreg.score(X_test, y_test))"
   ]
  }
 ],
 "metadata": {
  "kernelspec": {
   "display_name": "Python 3",
   "language": "python",
   "name": "python3"
  },
  "language_info": {
   "codemirror_mode": {
    "name": "ipython",
    "version": 3
   },
   "file_extension": ".py",
   "mimetype": "text/x-python",
   "name": "python",
   "nbconvert_exporter": "python",
   "pygments_lexer": "ipython3",
   "version": "3.7.6"
  }
 },
 "nbformat": 4,
 "nbformat_minor": 4
}
