{
 "cells": [
  {
   "cell_type": "code",
   "execution_count": 2,
   "metadata": {},
   "outputs": [],
   "source": [
    "import numpy as np\n",
    "import pandas as pd\n",
    "import matplotlib.pyplot as plt\n",
    "\n",
    "# モデル作成のモジュール（最小二乗法を搭載）\n",
    "from sklearn.linear_model import LinearRegression\n",
    "\n",
    "# データ読み込み\n",
    "from sklearn.datasets import load_boston\n",
    "\n",
    "# 学習データとテストデータの分割をするモジュール\n",
    "from sklearn.model_selection import train_test_split"
   ]
  },
  {
   "cell_type": "code",
   "execution_count": 3,
   "metadata": {},
   "outputs": [
    {
     "data": {
      "text/plain": [
       "LinearRegression(copy_X=True, fit_intercept=True, n_jobs=None, normalize=False)"
      ]
     },
     "execution_count": 3,
     "metadata": {},
     "output_type": "execute_result"
    }
   ],
   "source": [
    "# Bostonデータセットを読み込む（データに様々なメソッドを適用できるようインスタンスを作成）\n",
    "boston = load_boston()\n",
    "\n",
    "# 目的変数と説明変数に分ける\n",
    "X, y = boston.data, boston.target\n",
    "\n",
    "# 学習データとテストデータに分割する\n",
    "X_train, X_test, y_train, y_test = train_test_split(X, y, test_size = 0.3)\n",
    "\n",
    "# 線形回帰の適用関数を作成（インスタンス）\n",
    "# .shapeで形状を出すのと同様に、lr.fitで回帰分析を実行する\n",
    "lr = LinearRegression()\n",
    "\n",
    "# モデルの作成を行う（最小二乗法により、微分して各重みを求め、直線の式を作成する）\n",
    "lr.fit(X_train, y_train)"
   ]
  },
  {
   "cell_type": "code",
   "execution_count": 4,
   "metadata": {},
   "outputs": [
    {
     "data": {
      "text/plain": [
       "36.61919534858056"
      ]
     },
     "execution_count": 4,
     "metadata": {},
     "output_type": "execute_result"
    }
   ],
   "source": [
    "# 切片（重みwo）を求める\n",
    "lr.intercept_"
   ]
  },
  {
   "cell_type": "code",
   "execution_count": 5,
   "metadata": {},
   "outputs": [
    {
     "name": "stdout",
     "output_type": "stream",
     "text": [
      "[-1.30942592e-01  3.93397530e-02  3.34152241e-02  2.69312969e+00\n",
      " -1.77337676e+01  3.95093181e+00 -1.16396424e-03 -1.51204896e+00\n",
      "  3.36066399e-01 -1.37052283e-02 -9.54346277e-01  8.23484120e-03\n",
      " -5.17616471e-01]\n"
     ]
    }
   ],
   "source": [
    "# 回帰係数（傾き：w1～w13）を求める\n",
    "print(lr.coef_)"
   ]
  },
  {
   "cell_type": "code",
   "execution_count": 6,
   "metadata": {},
   "outputs": [],
   "source": [
    "# 学習データに対する予測値を出す（モデル作成にした学習データも、実際にx_trainを代入して、どの程度y_trainに近づくかを見れる）\n",
    "y_train_pred = lr.predict(X_train)\n",
    "\n",
    "# テストデータに対する予測値を出す\n",
    "y_test_pred = lr.predict(X_test)"
   ]
  },
  {
   "cell_type": "code",
   "execution_count": 7,
   "metadata": {},
   "outputs": [
    {
     "data": {
      "text/plain": [
       "array([34.90259011, 26.4077059 , 24.8609863 , 23.55723929, 25.38074744,\n",
       "       21.30054026, 15.08812309, 18.23233851, 41.39215876, 19.27343331])"
      ]
     },
     "execution_count": 7,
     "metadata": {},
     "output_type": "execute_result"
    }
   ],
   "source": [
    "y_train_pred[:10]"
   ]
  },
  {
   "cell_type": "code",
   "execution_count": 8,
   "metadata": {},
   "outputs": [
    {
     "data": {
      "text/plain": [
       "array([20.03167238, 29.27768731, 38.28364178, 23.48957053, 20.61602903,\n",
       "       21.82028757, 17.52932565, 28.03671267, 19.50469772, 37.18758562])"
      ]
     },
     "execution_count": 8,
     "metadata": {},
     "output_type": "execute_result"
    }
   ],
   "source": [
    "y_test_pred[:10]"
   ]
  },
  {
   "cell_type": "code",
   "execution_count": 18,
   "metadata": {},
   "outputs": [
    {
     "data": {
      "image/png": "[encoded data removed]",
      "text/plain": [
       "<Figure size 432x288 with 1 Axes>"
      ]
     },
     "metadata": {
      "needs_background": "light"
     },
     "output_type": "display_data"
    }
   ],
   "source": [
    "# 予測値と正解値をプロットしてみる（正解値 y = 予測値 x の直線を引いてみる）\n",
    "\n",
    "fig, ax = plt.subplots()\n",
    "\n",
    "ax.scatter(y_train_pred, y_train, color = 'magenta')\n",
    "ax.scatter(y_test_pred, y_test, color = 'blue')\n",
    "ax.plot((0, 50), (0, 50), linestyle = 'dashed', color = 'red')\n",
    "\n",
    "plt.show()"
   ]
  },
  {
   "cell_type": "code",
   "execution_count": 10,
   "metadata": {},
   "outputs": [
    {
     "data": {
      "image/png": "[encoded data removed]",
      "text/plain": [
       "<Figure size 432x288 with 1 Axes>"
      ]
     },
     "metadata": {
      "needs_background": "light"
     },
     "output_type": "display_data"
    }
   ],
   "source": [
    "# 作成したモデルの性能を見るために、残差をプロットする（評価の前に、まずは残差を見る）\n",
    "fig, ax = plt.subplots()\n",
    "\n",
    "# 残差をプロットする\n",
    "ax.scatter(y_train_pred, y_train_pred - y_train, color = 'Blue', marker = 'o', label = 'train data')\n",
    "ax.scatter(y_test_pred, y_test_pred - y_test, c = 'Magenta', marker = 's', label = 'test data') # cと略してもいける\n",
    "\n",
    "# y = 0 の直線をプロットする\n",
    "ax.hlines(y = 0, xmin = -10, xmax = 50, linewidth = 2, color = 'red')\n",
    " \n",
    "# 軸ラベルを設定する\n",
    "ax.set_xlabel = ('Predict Values')\n",
    "ax.set_ylabel = ('Residuals')\n",
    "\n",
    "# 凡例の設定\n",
    "ax.legend(loc = 'best')\n",
    "\n",
    "# プロットを出力する\n",
    "plt.show()\n",
    "\n",
    "# 下記だと残差を中心に、上下の割合がバランスよく散らばっているので問題なし（赤線より上のみや、下のみの点が多いと問題あり）\n",
    "# ただし、右下に直線的な関係がみられるため、もしかしたら正則化をした方が良いかもしれない"
   ]
  },
  {
   "cell_type": "code",
   "execution_count": 11,
   "metadata": {},
   "outputs": [
    {
     "name": "stdout",
     "output_type": "stream",
     "text": [
      "MSE train : 24.391\n",
      "MSE test : 16.491\n",
      "R^2 train : 0.729\n",
      "R^2 test : 0.767\n"
     ]
    }
   ],
   "source": [
    "# 平均二乗誤差（MSE）を使用するメソッドの呼び出し\n",
    "from sklearn.metrics import mean_squared_error\n",
    "\n",
    "# 平均二乗誤差を求める（少数点第3桁まで出す）\n",
    "print('MSE train : %.3f' % (mean_squared_error(y_train, y_train_pred)))\n",
    "print('MSE test : %.3f' % (mean_squared_error(y_test, y_test_pred)))\n",
    "\n",
    "# 決定係数を求める\n",
    "print('R^2 train : %.3f' % (lr.score(X_train, y_train)))\n",
    "print('R^2 test : %.3f' % (lr.score(X_test, y_test)))"
   ]
  },
  {
   "cell_type": "markdown",
   "metadata": {},
   "source": [
    "### 参考文献\n",
    "\n",
    "http://tekenuko.hatenablog.com/entry/2016/09/19/151547<br>\n",
    "https://qiita.com/0NE_shoT_/items/08376b08783cd554b02e"
   ]
  }
 ],
 "metadata": {
  "kernelspec": {
   "display_name": "Python 3",
   "language": "python",
   "name": "python3"
  },
  "language_info": {
   "codemirror_mode": {
    "name": "ipython",
    "version": 3
   },
   "file_extension": ".py",
   "mimetype": "text/x-python",
   "name": "python",
   "nbconvert_exporter": "python",
   "pygments_lexer": "ipython3",
   "version": "3.7.6"
  }
 },
 "nbformat": 4,
 "nbformat_minor": 4
}
