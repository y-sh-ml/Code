{
 "cells": [
  {
   "cell_type": "code",
   "execution_count": null,
   "id": "09997669",
   "metadata": {},
   "outputs": [],
   "source": [
    "conditions = [((df['score'] >= 80) & (df['gender'] == 'man')),  ((df['score'] >= 80) & (df['gender'] == 'woman'))]\n",
    "choices = [2, 1]\n",
    "df['new_feature'] = np.select(conditions, choices, default=0)"
   ]
  },
  {
   "cell_type": "markdown",
   "id": "6b0e10de",
   "metadata": {},
   "source": [
    "### References"
   ]
  },
  {
   "cell_type": "markdown",
   "id": "3c35130c",
   "metadata": {},
   "source": [
    "[pandasで他のカラムを条件に、新しいカラムを追加する](https://kagglenote.com/misc/pandas_create_new_column_based_on_other_column/)"
   ]
  }
 ],
 "metadata": {
  "kernelspec": {
   "display_name": "Python 3",
   "language": "python",
   "name": "python3"
  },
  "language_info": {
   "codemirror_mode": {
    "name": "ipython",
    "version": 3
   },
   "file_extension": ".py",
   "mimetype": "text/x-python",
   "name": "python",
   "nbconvert_exporter": "python",
   "pygments_lexer": "ipython3",
   "version": "3.8.8"
  }
 },
 "nbformat": 4,
 "nbformat_minor": 5
}
