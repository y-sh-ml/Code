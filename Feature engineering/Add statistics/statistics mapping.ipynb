{
 "cells": [
  {
   "cell_type": "code",
   "execution_count": null,
   "id": "9a75f7d6",
   "metadata": {},
   "outputs": [],
   "source": [
    "df_group = train.groupby('building_id')['meter_reading']\n",
    "\n",
    "building_mean = df_group.mean()\n",
    "building_median = df_group.median()\n",
    "building_std = df_group.std()\n",
    "\n",
    "building_min = df_group.min()\n",
    "building_max = df_group.max()"
   ]
  },
  {
   "cell_type": "code",
   "execution_count": null,
   "id": "75bd6243",
   "metadata": {},
   "outputs": [],
   "source": [
    "train['building_mean'] = train['building_id'].map(building_mean)\n",
    "train['building_median'] = train['building_id'].map(building_median)\n",
    "train['building_std'] = train['building_id'].map(building_std)\n",
    "\n",
    "train['building_min'] = train['building_id'].map(building_min)\n",
    "train['building_max'] = train['building_id'].map(building_max)"
   ]
  }
 ],
 "metadata": {
  "kernelspec": {
   "display_name": "Python 3",
   "language": "python",
   "name": "python3"
  },
  "language_info": {
   "codemirror_mode": {
    "name": "ipython",
    "version": 3
   },
   "file_extension": ".py",
   "mimetype": "text/x-python",
   "name": "python",
   "nbconvert_exporter": "python",
   "pygments_lexer": "ipython3",
   "version": "3.8.8"
  }
 },
 "nbformat": 4,
 "nbformat_minor": 5
}
