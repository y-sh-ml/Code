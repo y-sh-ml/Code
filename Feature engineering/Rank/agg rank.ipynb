{
 "cells": [
  {
   "cell_type": "code",
   "execution_count": 1,
   "id": "f2ae6742",
   "metadata": {},
   "outputs": [],
   "source": [
    "import numpy as np\n",
    "import pandas as pd"
   ]
  },
  {
   "cell_type": "code",
   "execution_count": 2,
   "id": "a553f25d",
   "metadata": {},
   "outputs": [
    {
     "name": "stdout",
     "output_type": "stream",
     "text": [
      "(1000, 5)\n"
     ]
    },
    {
     "data": {
      "text/html": [
       "<div>\n",
       "<style scoped>\n",
       "    .dataframe tbody tr th:only-of-type {\n",
       "        vertical-align: middle;\n",
       "    }\n",
       "\n",
       "    .dataframe tbody tr th {\n",
       "        vertical-align: top;\n",
       "    }\n",
       "\n",
       "    .dataframe thead th {\n",
       "        text-align: right;\n",
       "    }\n",
       "</style>\n",
       "<table border=\"1\" class=\"dataframe\">\n",
       "  <thead>\n",
       "    <tr style=\"text-align: right;\">\n",
       "      <th></th>\n",
       "      <th>customer_id</th>\n",
       "      <th>age</th>\n",
       "      <th>sex</th>\n",
       "      <th>home_latitude</th>\n",
       "      <th>home_longitude</th>\n",
       "    </tr>\n",
       "  </thead>\n",
       "  <tbody>\n",
       "    <tr>\n",
       "      <th>0</th>\n",
       "      <td>c_1</td>\n",
       "      <td>41</td>\n",
       "      <td>man</td>\n",
       "      <td>35.092193</td>\n",
       "      <td>136.512347</td>\n",
       "    </tr>\n",
       "    <tr>\n",
       "      <th>1</th>\n",
       "      <td>c_2</td>\n",
       "      <td>38</td>\n",
       "      <td>man</td>\n",
       "      <td>35.325076</td>\n",
       "      <td>139.410551</td>\n",
       "    </tr>\n",
       "    <tr>\n",
       "      <th>2</th>\n",
       "      <td>c_3</td>\n",
       "      <td>49</td>\n",
       "      <td>woman</td>\n",
       "      <td>35.120543</td>\n",
       "      <td>136.511179</td>\n",
       "    </tr>\n",
       "    <tr>\n",
       "      <th>3</th>\n",
       "      <td>c_4</td>\n",
       "      <td>43</td>\n",
       "      <td>man</td>\n",
       "      <td>43.034868</td>\n",
       "      <td>141.240314</td>\n",
       "    </tr>\n",
       "    <tr>\n",
       "      <th>4</th>\n",
       "      <td>c_5</td>\n",
       "      <td>31</td>\n",
       "      <td>man</td>\n",
       "      <td>35.102661</td>\n",
       "      <td>136.523797</td>\n",
       "    </tr>\n",
       "  </tbody>\n",
       "</table>\n",
       "</div>"
      ],
      "text/plain": [
       "  customer_id  age    sex  home_latitude  home_longitude\n",
       "0         c_1   41    man      35.092193      136.512347\n",
       "1         c_2   38    man      35.325076      139.410551\n",
       "2         c_3   49  woman      35.120543      136.511179\n",
       "3         c_4   43    man      43.034868      141.240314\n",
       "4         c_5   31    man      35.102661      136.523797"
      ]
     },
     "execution_count": 2,
     "metadata": {},
     "output_type": "execute_result"
    }
   ],
   "source": [
    "customer_tb = pd.read_csv('customer.csv')\n",
    "print(customer_tb.shape)\n",
    "customer_tb.head()"
   ]
  },
  {
   "cell_type": "code",
   "execution_count": 3,
   "id": "66bbc3f9",
   "metadata": {},
   "outputs": [
    {
     "data": {
      "text/html": [
       "<div>\n",
       "<style scoped>\n",
       "    .dataframe tbody tr th:only-of-type {\n",
       "        vertical-align: middle;\n",
       "    }\n",
       "\n",
       "    .dataframe tbody tr th {\n",
       "        vertical-align: top;\n",
       "    }\n",
       "\n",
       "    .dataframe thead th {\n",
       "        text-align: right;\n",
       "    }\n",
       "</style>\n",
       "<table border=\"1\" class=\"dataframe\">\n",
       "  <thead>\n",
       "    <tr style=\"text-align: right;\">\n",
       "      <th></th>\n",
       "      <th>customer_id</th>\n",
       "      <th>age</th>\n",
       "      <th>sex</th>\n",
       "      <th>home_latitude</th>\n",
       "      <th>home_longitude</th>\n",
       "      <th>age_rank</th>\n",
       "    </tr>\n",
       "  </thead>\n",
       "  <tbody>\n",
       "    <tr>\n",
       "      <th>0</th>\n",
       "      <td>c_1</td>\n",
       "      <td>41</td>\n",
       "      <td>man</td>\n",
       "      <td>35.092193</td>\n",
       "      <td>136.512347</td>\n",
       "      <td>40.0</td>\n",
       "    </tr>\n",
       "    <tr>\n",
       "      <th>1</th>\n",
       "      <td>c_2</td>\n",
       "      <td>38</td>\n",
       "      <td>man</td>\n",
       "      <td>35.325076</td>\n",
       "      <td>139.410551</td>\n",
       "      <td>30.0</td>\n",
       "    </tr>\n",
       "    <tr>\n",
       "      <th>2</th>\n",
       "      <td>c_3</td>\n",
       "      <td>49</td>\n",
       "      <td>woman</td>\n",
       "      <td>35.120543</td>\n",
       "      <td>136.511179</td>\n",
       "      <td>40.0</td>\n",
       "    </tr>\n",
       "    <tr>\n",
       "      <th>3</th>\n",
       "      <td>c_4</td>\n",
       "      <td>43</td>\n",
       "      <td>man</td>\n",
       "      <td>43.034868</td>\n",
       "      <td>141.240314</td>\n",
       "      <td>40.0</td>\n",
       "    </tr>\n",
       "    <tr>\n",
       "      <th>4</th>\n",
       "      <td>c_5</td>\n",
       "      <td>31</td>\n",
       "      <td>man</td>\n",
       "      <td>35.102661</td>\n",
       "      <td>136.523797</td>\n",
       "      <td>30.0</td>\n",
       "    </tr>\n",
       "  </tbody>\n",
       "</table>\n",
       "</div>"
      ],
      "text/plain": [
       "  customer_id  age    sex  home_latitude  home_longitude age_rank\n",
       "0         c_1   41    man      35.092193      136.512347     40.0\n",
       "1         c_2   38    man      35.325076      139.410551     30.0\n",
       "2         c_3   49  woman      35.120543      136.511179     40.0\n",
       "3         c_4   43    man      43.034868      141.240314     40.0\n",
       "4         c_5   31    man      35.102661      136.523797     30.0"
      ]
     },
     "execution_count": 3,
     "metadata": {},
     "output_type": "execute_result"
    }
   ],
   "source": [
    "customer_tb['age_rank'] = (np.floor(customer_tb['age'] / 10) *10).astype('category')\n",
    "customer_tb.head()"
   ]
  }
 ],
 "metadata": {
  "kernelspec": {
   "display_name": "Python 3",
   "language": "python",
   "name": "python3"
  },
  "language_info": {
   "codemirror_mode": {
    "name": "ipython",
    "version": 3
   },
   "file_extension": ".py",
   "mimetype": "text/x-python",
   "name": "python",
   "nbconvert_exporter": "python",
   "pygments_lexer": "ipython3",
   "version": "3.8.8"
  }
 },
 "nbformat": 4,
 "nbformat_minor": 5
}
