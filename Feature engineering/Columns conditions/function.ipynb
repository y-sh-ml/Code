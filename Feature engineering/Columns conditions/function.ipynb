{
 "cells": [
  {
   "cell_type": "code",
   "execution_count": null,
   "id": "1b293ec6",
   "metadata": {},
   "outputs": [],
   "source": [
    "def CREDIT_transformer(x):\n",
    "    if x <= 1000000:\n",
    "        y = 1\n",
    "    else:\n",
    "        y = 0\n",
    "    return y\n",
    "\n",
    "train['AMT_CREDIT_CLASS'] = train['AMT_CREDIT'].apply(lambda x: CREDIT_transformer(x))"
   ]
  },
  {
   "cell_type": "markdown",
   "id": "fa809d57",
   "metadata": {},
   "source": [
    "・`else: pass` は NG、`y = np.nan` にする<br>\n",
    "・`return` の記述を忘れないようにする"
   ]
  }
 ],
 "metadata": {
  "kernelspec": {
   "display_name": "Python 3",
   "language": "python",
   "name": "python3"
  },
  "language_info": {
   "codemirror_mode": {
    "name": "ipython",
    "version": 3
   },
   "file_extension": ".py",
   "mimetype": "text/x-python",
   "name": "python",
   "nbconvert_exporter": "python",
   "pygments_lexer": "ipython3",
   "version": "3.8.8"
  }
 },
 "nbformat": 4,
 "nbformat_minor": 5
}
