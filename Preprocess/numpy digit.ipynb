{
 "cells": [
  {
   "cell_type": "code",
   "execution_count": 1,
   "id": "e3f19686",
   "metadata": {},
   "outputs": [],
   "source": [
    "import numpy as np"
   ]
  },
  {
   "cell_type": "code",
   "execution_count": 2,
   "id": "7846b09b",
   "metadata": {},
   "outputs": [],
   "source": [
    "array = np.arange(1,11)\n",
    "expon=np.exp(array)"
   ]
  },
  {
   "cell_type": "code",
   "execution_count": 3,
   "id": "293869dd",
   "metadata": {},
   "outputs": [
    {
     "data": {
      "text/plain": [
       "array([2.71828183e+00, 7.38905610e+00, 2.00855369e+01, 5.45981500e+01,\n",
       "       1.48413159e+02, 4.03428793e+02, 1.09663316e+03, 2.98095799e+03,\n",
       "       8.10308393e+03, 2.20264658e+04])"
      ]
     },
     "execution_count": 3,
     "metadata": {},
     "output_type": "execute_result"
    }
   ],
   "source": [
    "expon"
   ]
  },
  {
   "cell_type": "code",
   "execution_count": 4,
   "id": "b19953b4",
   "metadata": {},
   "outputs": [
    {
     "data": {
      "text/plain": [
       "array([2.718e+00, 7.389e+00, 2.009e+01, 5.460e+01, 1.484e+02, 4.034e+02,\n",
       "       1.097e+03, 2.981e+03, 8.103e+03, 2.203e+04])"
      ]
     },
     "execution_count": 4,
     "metadata": {},
     "output_type": "execute_result"
    }
   ],
   "source": [
    "np.set_printoptions(precision=3)\n",
    "expon"
   ]
  },
  {
   "cell_type": "code",
   "execution_count": 5,
   "id": "73704967",
   "metadata": {},
   "outputs": [
    {
     "data": {
      "text/plain": [
       "array([    2.718,     7.389,    20.086,    54.598,   148.413,   403.429,\n",
       "        1096.633,  2980.958,  8103.084, 22026.466])"
      ]
     },
     "execution_count": 5,
     "metadata": {},
     "output_type": "execute_result"
    }
   ],
   "source": [
    "np.set_printoptions(precision=3, suppress=True)\n",
    "expon"
   ]
  },
  {
   "cell_type": "markdown",
   "id": "1d0d4dd2",
   "metadata": {},
   "source": [
    "### 参考文献"
   ]
  },
  {
   "cell_type": "markdown",
   "id": "031e0f49",
   "metadata": {},
   "source": [
    "・[PythonのNumPyモジュールの数値の表示を見やすくする](http://ictsr4.com/sw/python%E3%81%AEnumpy%E3%83%A2%E3%82%B8%E3%83%A5%E3%83%BC%E3%83%AB%E3%81%AE%E6%95%B0%E5%80%A4%E3%81%AE%E8%A1%A8%E7%A4%BA%E3%82%92%E8%A6%8B%E3%82%84%E3%81%99%E3%81%8F%E3%81%99%E3%82%8B/)"
   ]
  }
 ],
 "metadata": {
  "kernelspec": {
   "display_name": "Python 3",
   "language": "python",
   "name": "python3"
  },
  "language_info": {
   "codemirror_mode": {
    "name": "ipython",
    "version": 3
   },
   "file_extension": ".py",
   "mimetype": "text/x-python",
   "name": "python",
   "nbconvert_exporter": "python",
   "pygments_lexer": "ipython3",
   "version": "3.8.8"
  }
 },
 "nbformat": 4,
 "nbformat_minor": 5
}
