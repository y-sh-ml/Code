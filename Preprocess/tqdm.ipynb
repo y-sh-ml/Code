{
 "cells": [
  {
   "cell_type": "code",
   "execution_count": 1,
   "id": "4b8b7d91",
   "metadata": {},
   "outputs": [],
   "source": [
    "from tqdm import tqdm"
   ]
  },
  {
   "cell_type": "code",
   "execution_count": 2,
   "id": "80089cea",
   "metadata": {},
   "outputs": [
    {
     "name": "stderr",
     "output_type": "stream",
     "text": [
      "100%|████████████████████████████████████| 100/100 [00:00<00:00, 1754938.91it/s]\n"
     ]
    }
   ],
   "source": [
    "num = 0\n",
    "\n",
    "for i in tqdm(range(0, 100)):\n",
    "    num += i"
   ]
  }
 ],
 "metadata": {
  "kernelspec": {
   "display_name": "Python 3 (ipykernel)",
   "language": "python",
   "name": "python3"
  },
  "language_info": {
   "codemirror_mode": {
    "name": "ipython",
    "version": 3
   },
   "file_extension": ".py",
   "mimetype": "text/x-python",
   "name": "python",
   "nbconvert_exporter": "python",
   "pygments_lexer": "ipython3",
   "version": "3.11.5"
  }
 },
 "nbformat": 4,
 "nbformat_minor": 5
}
