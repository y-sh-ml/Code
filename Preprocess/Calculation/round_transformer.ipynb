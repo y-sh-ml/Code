{
 "cells": [
  {
   "cell_type": "code",
   "execution_count": 1,
   "id": "8e7eae13",
   "metadata": {},
   "outputs": [],
   "source": [
    "from decimal import Decimal, ROUND_HALF_UP"
   ]
  },
  {
   "cell_type": "code",
   "execution_count": 2,
   "id": "0d2f2dc9",
   "metadata": {},
   "outputs": [
    {
     "name": "stdout",
     "output_type": "stream",
     "text": [
      "100\n",
      "110\n"
     ]
    }
   ],
   "source": [
    "print(int(Decimal(104).quantize(Decimal('1E1'), rounding=ROUND_HALF_UP)))\n",
    "print(int(Decimal(105).quantize(Decimal('1E1'), rounding=ROUND_HALF_UP)))"
   ]
  },
  {
   "cell_type": "code",
   "execution_count": 3,
   "id": "0784c452",
   "metadata": {},
   "outputs": [
    {
     "name": "stdout",
     "output_type": "stream",
     "text": [
      "100\n",
      "200\n"
     ]
    }
   ],
   "source": [
    "print(int(Decimal(140).quantize(Decimal('1E2'), rounding=ROUND_HALF_UP)))\n",
    "print(int(Decimal(150).quantize(Decimal('1E2'), rounding=ROUND_HALF_UP)))"
   ]
  },
  {
   "cell_type": "code",
   "execution_count": 4,
   "id": "f195579c",
   "metadata": {},
   "outputs": [],
   "source": [
    "def round_transformer(x):\n",
    "    if x == 0:\n",
    "        y = 0\n",
    "    elif x < 10:\n",
    "        y = 10\n",
    "    elif 10 <= x < 100:\n",
    "        y = int(Decimal(x).quantize(Decimal('1E1'), rounding=ROUND_HALF_UP))\n",
    "    elif x >= 100:\n",
    "        a = len(str(int(x)))\n",
    "        i = a - 2\n",
    "        y = int(Decimal(x).quantize(Decimal(f'1E{i}'), rounding=ROUND_HALF_UP))\n",
    "        \n",
    "    return y"
   ]
  },
  {
   "cell_type": "code",
   "execution_count": 5,
   "id": "8f6d717d",
   "metadata": {},
   "outputs": [
    {
     "name": "stdout",
     "output_type": "stream",
     "text": [
      "10\n",
      "20\n"
     ]
    }
   ],
   "source": [
    "print(round_transformer(14))\n",
    "print(round_transformer(15))"
   ]
  },
  {
   "cell_type": "code",
   "execution_count": 6,
   "id": "de36f1ef",
   "metadata": {},
   "outputs": [
    {
     "name": "stdout",
     "output_type": "stream",
     "text": [
      "280\n",
      "290\n"
     ]
    }
   ],
   "source": [
    "print(round_transformer(284))\n",
    "print(round_transformer(285))"
   ]
  },
  {
   "cell_type": "code",
   "execution_count": 7,
   "id": "8944cd9c",
   "metadata": {},
   "outputs": [
    {
     "name": "stdout",
     "output_type": "stream",
     "text": [
      "1500\n",
      "1600\n"
     ]
    }
   ],
   "source": [
    "print(round_transformer(1540))\n",
    "print(round_transformer(1550))"
   ]
  }
 ],
 "metadata": {
  "kernelspec": {
   "display_name": "Python 3",
   "language": "python",
   "name": "python3"
  },
  "language_info": {
   "codemirror_mode": {
    "name": "ipython",
    "version": 3
   },
   "file_extension": ".py",
   "mimetype": "text/x-python",
   "name": "python",
   "nbconvert_exporter": "python",
   "pygments_lexer": "ipython3",
   "version": "3.8.8"
  }
 },
 "nbformat": 4,
 "nbformat_minor": 5
}
