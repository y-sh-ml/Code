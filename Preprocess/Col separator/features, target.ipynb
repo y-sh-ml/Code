{
 "cells": [
  {
   "cell_type": "code",
   "execution_count": null,
   "id": "c90d1399",
   "metadata": {},
   "outputs": [],
   "source": [
    "X_train = train[[col for col in train.columns if col != 'target']]\n",
    "y_train = train['target']\n",
    "\n",
    "print(X_train.shape)\n",
    "print(y_train.shape)"
   ]
  }
 ],
 "metadata": {
  "kernelspec": {
   "display_name": "Python 3",
   "language": "python",
   "name": "python3"
  },
  "language_info": {
   "codemirror_mode": {
    "name": "ipython",
    "version": 3
   },
   "file_extension": ".py",
   "mimetype": "text/x-python",
   "name": "python",
   "nbconvert_exporter": "python",
   "pygments_lexer": "ipython3",
   "version": "3.8.8"
  }
 },
 "nbformat": 4,
 "nbformat_minor": 5
}
