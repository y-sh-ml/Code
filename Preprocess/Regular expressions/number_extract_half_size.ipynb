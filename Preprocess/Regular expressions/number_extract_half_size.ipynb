{
 "cells": [
  {
   "cell_type": "code",
   "execution_count": null,
   "id": "93ddc507",
   "metadata": {},
   "outputs": [],
   "source": [
    "def capacity_processor(text):\n",
    "    text = re.sub('x...', 'x', text)\n",
    "    text = re.sub('x..', 'x', text)\n",
    "    text = re.sub('x.', 'x', text)\n",
    "    \n",
    "    text = re.sub(r'¥D', '', text)\n",
    "    text = text.translate(str.maketrans({chr(0xFF01 + i): chr(0x21 + i) for i in range(94)}))"
   ]
  },
  {
   "cell_type": "markdown",
   "id": "fcaa3b43",
   "metadata": {},
   "source": [
    "`¥D` は、数字以外の文字などを表す。<br>\n",
    "`.translate` で、全角の数字を半角に変換している。"
   ]
  },
  {
   "cell_type": "markdown",
   "id": "03830d87",
   "metadata": {},
   "source": [
    "### 参考文献"
   ]
  },
  {
   "cell_type": "markdown",
   "id": "e7ee9033",
   "metadata": {},
   "source": [
    "・[正規表現の基本](https://qiita.com/grrrr/items/7c8811b5cf37d700adc4)<br>\n",
    "・[全角と半角を相互変換する](https://qiita.com/YuukiMiyoshi/items/6ce77bf402a29a99f1bf)"
   ]
  }
 ],
 "metadata": {
  "kernelspec": {
   "display_name": "Python 3",
   "language": "python",
   "name": "python3"
  },
  "language_info": {
   "codemirror_mode": {
    "name": "ipython",
    "version": 3
   },
   "file_extension": ".py",
   "mimetype": "text/x-python",
   "name": "python",
   "nbconvert_exporter": "python",
   "pygments_lexer": "ipython3",
   "version": "3.8.8"
  }
 },
 "nbformat": 4,
 "nbformat_minor": 5
}
