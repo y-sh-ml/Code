{
 "cells": [
  {
   "cell_type": "code",
   "execution_count": null,
   "id": "c4f9e5e5",
   "metadata": {},
   "outputs": [],
   "source": [
    "def label_transformer(x):\n",
    "    if 'label_1' in x:\n",
    "        y = 'label_1'\n",
    "    else:\n",
    "        y = 'label_2'\n",
    "        \n",
    "    return y"
   ]
  },
  {
   "cell_type": "code",
   "execution_count": null,
   "id": "729830e7",
   "metadata": {},
   "outputs": [],
   "source": [
    "df['label'] = df['product'].apply(lambda x: label_transformer(x))"
   ]
  }
 ],
 "metadata": {
  "kernelspec": {
   "display_name": "Python 3",
   "language": "python",
   "name": "python3"
  },
  "language_info": {
   "codemirror_mode": {
    "name": "ipython",
    "version": 3
   },
   "file_extension": ".py",
   "mimetype": "text/x-python",
   "name": "python",
   "nbconvert_exporter": "python",
   "pygments_lexer": "ipython3",
   "version": "3.8.8"
  }
 },
 "nbformat": 4,
 "nbformat_minor": 5
}
