{
 "cells": [
  {
   "cell_type": "code",
   "execution_count": null,
   "id": "6b52327f",
   "metadata": {},
   "outputs": [],
   "source": [
    "pd.read_csv('file_name.csv', encoding='cp932')"
   ]
  },
  {
   "cell_type": "markdown",
   "id": "9575be60",
   "metadata": {},
   "source": [
    "### 参考文献"
   ]
  },
  {
   "cell_type": "markdown",
   "id": "3777304e",
   "metadata": {},
   "source": [
    "[pandasにexcel出力のcsvを読ませる時に注意する点](https://qiita.com/recomemos/items/1032199c5c47f1ce5417)"
   ]
  }
 ],
 "metadata": {
  "kernelspec": {
   "display_name": "Python 3",
   "language": "python",
   "name": "python3"
  },
  "language_info": {
   "codemirror_mode": {
    "name": "ipython",
    "version": 3
   },
   "file_extension": ".py",
   "mimetype": "text/x-python",
   "name": "python",
   "nbconvert_exporter": "python",
   "pygments_lexer": "ipython3",
   "version": "3.8.8"
  }
 },
 "nbformat": 4,
 "nbformat_minor": 5
}
