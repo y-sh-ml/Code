{
 "cells": [
  {
   "cell_type": "code",
   "execution_count": null,
   "id": "40155cbe",
   "metadata": {},
   "outputs": [],
   "source": [
    "pd.read_excel('file_name.csv', engine='openpyxl')"
   ]
  },
  {
   "cell_type": "markdown",
   "id": "6dbf613b",
   "metadata": {},
   "source": [
    "### 参考文献"
   ]
  },
  {
   "cell_type": "markdown",
   "id": "a2c23a5c",
   "metadata": {},
   "source": [
    "・[pandasでExcelファイル(xlsx)が読み込めない時の対処法](https://qiita.com/fujitatsu0520/items/9e37c2bd2ba2adfd18d4)"
   ]
  }
 ],
 "metadata": {
  "kernelspec": {
   "display_name": "Python 3",
   "language": "python",
   "name": "python3"
  },
  "language_info": {
   "codemirror_mode": {
    "name": "ipython",
    "version": 3
   },
   "file_extension": ".py",
   "mimetype": "text/x-python",
   "name": "python",
   "nbconvert_exporter": "python",
   "pygments_lexer": "ipython3",
   "version": "3.8.8"
  }
 },
 "nbformat": 4,
 "nbformat_minor": 5
}
