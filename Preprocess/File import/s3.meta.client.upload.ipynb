{
 "cells": [
  {
   "cell_type": "code",
   "execution_count": null,
   "id": "8f7fdc26",
   "metadata": {},
   "outputs": [],
   "source": [
    "import boto3"
   ]
  },
  {
   "cell_type": "code",
   "execution_count": null,
   "id": "11ceedf3",
   "metadata": {},
   "outputs": [],
   "source": [
    "s3 = boto3.resource('s3')"
   ]
  },
  {
   "cell_type": "code",
   "execution_count": null,
   "id": "f4067fed",
   "metadata": {},
   "outputs": [],
   "source": [
    "s3.meta.client.upload(local_file_path, bucket_name, s3_file_path)"
   ]
  },
  {
   "cell_type": "markdown",
   "id": "b5a850a1",
   "metadata": {},
   "source": [
    "`bucket_name`：1 番上のディレクトリにあるバケットの名前<br>\n",
    "`s3_file_path`：`bucket_name` の 1 つ下の階層から、アップロードするファイルまでのパス"
   ]
  }
 ],
 "metadata": {
  "kernelspec": {
   "display_name": "Python 3",
   "language": "python",
   "name": "python3"
  },
  "language_info": {
   "codemirror_mode": {
    "name": "ipython",
    "version": 3
   },
   "file_extension": ".py",
   "mimetype": "text/x-python",
   "name": "python",
   "nbconvert_exporter": "python",
   "pygments_lexer": "ipython3",
   "version": "3.8.8"
  }
 },
 "nbformat": 4,
 "nbformat_minor": 5
}
