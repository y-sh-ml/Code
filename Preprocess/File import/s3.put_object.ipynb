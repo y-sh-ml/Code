{
 "cells": [
  {
   "cell_type": "code",
   "execution_count": null,
   "id": "b10b45a1",
   "metadata": {},
   "outputs": [],
   "source": [
    "import boto3"
   ]
  },
  {
   "cell_type": "code",
   "execution_count": null,
   "id": "7b8a4c95",
   "metadata": {},
   "outputs": [],
   "source": [
    "s3 = boto3.client('s3')"
   ]
  },
  {
   "cell_type": "code",
   "execution_count": null,
   "id": "90c7a88b",
   "metadata": {},
   "outputs": [],
   "source": [
    "response = s3.put_object(Bucket=bucket_name, Key=key)"
   ]
  },
  {
   "cell_type": "markdown",
   "id": "b4fcd264",
   "metadata": {},
   "source": [
    "`bucket_name`：1 番上のディレクトリにあるバケットの名前<br>\n",
    "`s3_file_path`：`bucket_name` の 1 つ下の階層から、作成するバケットまでのパス"
   ]
  }
 ],
 "metadata": {
  "kernelspec": {
   "display_name": "Python 3",
   "language": "python",
   "name": "python3"
  },
  "language_info": {
   "codemirror_mode": {
    "name": "ipython",
    "version": 3
   },
   "file_extension": ".py",
   "mimetype": "text/x-python",
   "name": "python",
   "nbconvert_exporter": "python",
   "pygments_lexer": "ipython3",
   "version": "3.8.8"
  }
 },
 "nbformat": 4,
 "nbformat_minor": 5
}
