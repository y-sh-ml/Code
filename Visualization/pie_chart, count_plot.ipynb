{
 "cells": [
  {
   "cell_type": "code",
   "execution_count": null,
   "id": "88112752",
   "metadata": {},
   "outputs": [],
   "source": [
    "figure ,ax = plt.subplots(1, 2, figsize=(12,5))\n",
    "\n",
    "train['target'].value_counts().plot.pie(explode=[0,0.1],autopct='%1.1f%%', ax=ax[0], shadow=True)\n",
    "ax[0].set_title('target')\n",
    "ax[0].set_ylabel('')\n",
    "\n",
    "sns.countplot(x='target', data=train, ax=ax[1])\n",
    "ax[1].set_title('target')\n",
    "\n",
    "plt.show()"
   ]
  }
 ],
 "metadata": {
  "kernelspec": {
   "display_name": "Python 3",
   "language": "python",
   "name": "python3"
  },
  "language_info": {
   "codemirror_mode": {
    "name": "ipython",
    "version": 3
   },
   "file_extension": ".py",
   "mimetype": "text/x-python",
   "name": "python",
   "nbconvert_exporter": "python",
   "pygments_lexer": "ipython3",
   "version": "3.8.8"
  }
 },
 "nbformat": 4,
 "nbformat_minor": 5
}
